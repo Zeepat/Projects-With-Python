{
 "cells": [
  {
   "cell_type": "code",
   "execution_count": 2,
   "metadata": {},
   "outputs": [],
   "source": [
    "import os\n",
    "import requests\n",
    "import urllib.parse\n",
    "import datetime\n",
    "import pandas as pds"
   ]
  },
  {
   "cell_type": "code",
   "execution_count": 3,
   "metadata": {},
   "outputs": [],
   "source": [
    "def datetime_converter(type, time):\n",
    "    if type == 'date':\n",
    "        timestamp = int(time) / 1000\n",
    "        date = datetime.datetime.fromtimestamp(timestamp)\n",
    "        return date\n",
    "    elif type == 'timestamp':\n",
    "        date = datetime.datetime.strptime(time, '%Y-%m-%d')\n",
    "        timestamp = int(date.timestamp())\n",
    "        return timestamp\n",
    "    else:\n",
    "        raise ValueError(\"Invalid type. Supported types are 'date' and 'timestamp'.\")\n"
   ]
  },
  {
   "cell_type": "code",
   "execution_count": 5,
   "metadata": {},
   "outputs": [],
   "source": [
    "def get_puuid(game_name, name_tag):\n",
    "    with open('../api_key.txt', 'r') as file:\n",
    "        api_key = file.read().replace('\\n', '')\n",
    "    url_puuid = f'https://europe.api.riotgames.com/riot/account/v1/accounts/by-riot-id/{game_name}/{name_tag}?api_key={api_key}'\n",
    "    response_puuid = requests.get(url_puuid)\n",
    "    return response_puuid.json()['puuid']"
   ]
  },
  {
   "cell_type": "code",
   "execution_count": 6,
   "metadata": {},
   "outputs": [],
   "source": [
    "def get_matchids(puuid, amount_of_games=10000, starttime=0, endtime=0, type='ranked'):\n",
    "    with open('../api_key.txt', 'r') as file:\n",
    "        api_key = file.read().replace('\\n', '')\n",
    "    \n",
    "    match_ids = []\n",
    "    count = 0\n",
    "    start = 0\n",
    "    \n",
    "    while count < amount_of_games:\n",
    "        remaining_games = amount_of_games - count\n",
    "        games_to_fetch = min(remaining_games, 100)\n",
    "        \n",
    "        if starttime == 0 and endtime == 0:\n",
    "            url_matchids = f'https://europe.api.riotgames.com/lol/match/v5/matches/by-puuid/{puuid}/ids?type={type}&start={start}&count={games_to_fetch}&api_key={api_key}'\n",
    "        elif starttime != 0 and endtime == 0:\n",
    "            url_matchids = f'https://europe.api.riotgames.com/lol/match/v5/matches/by-puuid/{puuid}/ids?startTime={starttime}&type={type}&start={start}&count={games_to_fetch}&api_key={api_key}'\n",
    "        else:\n",
    "            url_matchids = f'https://europe.api.riotgames.com/lol/match/v5/matches/by-puuid/{puuid}/ids?startTime={starttime}&endTime={endtime}&type={type}&start={start}&count={games_to_fetch}&api_key={api_key}'\n",
    "        \n",
    "        response_matchids = requests.get(url_matchids)\n",
    "        match_ids.extend(response_matchids.json())\n",
    "        \n",
    "        count += games_to_fetch\n",
    "        start += games_to_fetch\n",
    "    \n",
    "    return match_ids\n"
   ]
  },
  {
   "cell_type": "code",
   "execution_count": 7,
   "metadata": {},
   "outputs": [],
   "source": [
    "def get_match_data(match_id):\n",
    "    try:\n",
    "        with open('../api_key.txt', 'r') as file:\n",
    "            api_key = file.read().replace('\\n', '')\n",
    "        url_match = f'https://europe.api.riotgames.com/lol/match/v5/matches/{match_id}?api_key={api_key}'\n",
    "        response_match = requests.get(url_match)\n",
    "        response_json = response_match.json()\n",
    "        \n",
    "        if 'status' in response_json and response_json['status']['status_code'] == 404:\n",
    "            print('Data not found - match file not found')\n",
    "            return None\n",
    "        \n",
    "        return response_json\n",
    "    except Exception as e:\n",
    "        print(f'Error occurred: {str(e)}')\n",
    "        return {}\n"
   ]
  },
  {
   "cell_type": "code",
   "execution_count": 8,
   "metadata": {},
   "outputs": [],
   "source": [
    "def filter_data(data, my_puuid, puuids_to_exclude):\n",
    "    filtered_data = []\n",
    "    for match in data:\n",
    "        my_summoner = match['metadata']['participants'].index(my_puuid)\n",
    "        team_id_my_summoner = match['info']['participants'][my_summoner]['teamId']\n",
    "        for participant in match['info']['participants']:\n",
    "            if (participant['teamPosition'] == 'BOTTOM' or participant['teamPosition'] == 'UTILITY') and participant['teamId'] == team_id_my_summoner and participant['puuid'] != puuids_to_exclude:\n",
    "                filtered_data.append(participant)\n",
    "    return filtered_data"
   ]
  },
  {
   "cell_type": "code",
   "execution_count": 9,
   "metadata": {},
   "outputs": [],
   "source": [
    "my_puuid = get_puuid('Zp4t', 'EUW')\n",
    "puuids_to_exclude = [get_puuid(puuid[0], puuid[1]) for puuid in [('Lurrvpöse', 'EUW'), ('Deadlystream538', 'EUW')]]\n",
    "\n",
    "match_ids = get_matchids(my_puuid, amount_of_games=50, type='ranked')\n",
    "filtered_data = []\n",
    "\n",
    "for match in match_ids:\n",
    "    match_data = get_match_data(match)\n",
    "    if match_data is not None:\n",
    "        filtered_data.extend(filter_data([match_data], my_puuid, puuids_to_exclude))"
   ]
  },
  {
   "cell_type": "code",
   "execution_count": 10,
   "metadata": {},
   "outputs": [
    {
     "name": "stdout",
     "output_type": "stream",
     "text": [
      "2.1085972850678734\n"
     ]
    },
    {
     "name": "stderr",
     "output_type": "stream",
     "text": [
      "C:\\Users\\first\\AppData\\Local\\Temp\\ipykernel_17940\\3418175646.py:3: FutureWarning: A value is trying to be set on a copy of a DataFrame or Series through chained assignment using an inplace method.\n",
      "The behavior will change in pandas 3.0. This inplace method will never work because the intermediate object on which we are setting values always behaves as a copy.\n",
      "\n",
      "For example, when doing 'df[col].method(value, inplace=True)', try using 'df.method({col: value}, inplace=True)' or df[col] = df[col].method(value) instead, to perform the operation inplace on the original object.\n",
      "\n",
      "\n",
      "  kda['deaths'].replace(0, 1, inplace=True)\n",
      "C:\\Users\\first\\AppData\\Local\\Temp\\ipykernel_17940\\3418175646.py:3: SettingWithCopyWarning: \n",
      "A value is trying to be set on a copy of a slice from a DataFrame\n",
      "\n",
      "See the caveats in the documentation: https://pandas.pydata.org/pandas-docs/stable/user_guide/indexing.html#returning-a-view-versus-a-copy\n",
      "  kda['deaths'].replace(0, 1, inplace=True)\n"
     ]
    },
    {
     "ename": "",
     "evalue": "",
     "output_type": "error",
     "traceback": [
      "\u001b[1;31mThe Kernel crashed while executing code in the current cell or a previous cell. \n",
      "\u001b[1;31mPlease review the code in the cell(s) to identify a possible cause of the failure. \n",
      "\u001b[1;31mClick <a href='https://aka.ms/vscodeJupyterKernelCrash'>here</a> for more info. \n",
      "\u001b[1;31mView Jupyter <a href='command:jupyter.viewOutput'>log</a> for further details."
     ]
    }
   ],
   "source": [
    "filtered_data = pd.DataFrame(filtered_data)\n",
    "kda = filtered_data[['kills', 'deaths', 'assists']]\n",
    "kda['deaths'].replace(0, 1, inplace=True)\n",
    "kda_mean = kda.mean()\n",
    "print((kda_mean['kills'] + kda_mean['assists']) / kda_mean['deaths'])"
   ]
  }
 ],
 "metadata": {
  "kernelspec": {
   "display_name": "Projects-With-Python-IQTy-Oq1",
   "language": "python",
   "name": "python3"
  },
  "language_info": {
   "codemirror_mode": {
    "name": "ipython",
    "version": 3
   },
   "file_extension": ".py",
   "mimetype": "text/x-python",
   "name": "python",
   "nbconvert_exporter": "python",
   "pygments_lexer": "ipython3",
   "version": "3.10.0"
  }
 },
 "nbformat": 4,
 "nbformat_minor": 2
}
