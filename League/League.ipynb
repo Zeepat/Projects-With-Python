{
 "cells": [
  {
   "cell_type": "code",
   "execution_count": 1,
   "metadata": {},
   "outputs": [],
   "source": [
    "import os\n",
    "import requests\n",
    "import urllib.parse\n",
    "import datetime\n",
    "import pandas as pd"
   ]
  },
  {
   "cell_type": "code",
   "execution_count": 2,
   "metadata": {},
   "outputs": [],
   "source": [
    "def datetime_converter(type, time):\n",
    "    if type == 'date':\n",
    "        timestamp = int(time) / 1000\n",
    "        date = datetime.datetime.fromtimestamp(timestamp)\n",
    "        return date\n",
    "    elif type == 'timestamp':\n",
    "        date = datetime.datetime.strptime(time, '%Y-%m-%d')\n",
    "        timestamp = int(date.timestamp())\n",
    "        return timestamp\n",
    "    else:\n",
    "        raise ValueError(\"Invalid type. Supported types are 'date' and 'timestamp'.\")\n"
   ]
  },
  {
   "cell_type": "code",
   "execution_count": 3,
   "metadata": {},
   "outputs": [],
   "source": [
    "def get_puuid(game_name, name_tag):\n",
    "    with open('../api_key.txt', 'r') as file:\n",
    "        api_key = file.read().replace('\\n', '')\n",
    "    url_puuid = f'https://europe.api.riotgames.com/riot/account/v1/accounts/by-riot-id/{game_name}/{name_tag}?api_key={api_key}'\n",
    "    response_puuid = requests.get(url_puuid)\n",
    "    return response_puuid.json()['puuid']"
   ]
  },
  {
   "cell_type": "code",
   "execution_count": 4,
   "metadata": {},
   "outputs": [],
   "source": [
    "def get_matchids(puuid, amount_of_games=10000, starttime=0, endtime=0, type='ranked'):\n",
    "    with open('../api_key.txt', 'r') as file:\n",
    "        api_key = file.read().replace('\\n', '')\n",
    "    \n",
    "    match_ids = []\n",
    "    count = 0\n",
    "    start = 0\n",
    "    \n",
    "    while count < amount_of_games:\n",
    "        remaining_games = amount_of_games - count\n",
    "        games_to_fetch = min(remaining_games, 100)\n",
    "        \n",
    "        if starttime == 0 and endtime == 0:\n",
    "            url_matchids = f'https://europe.api.riotgames.com/lol/match/v5/matches/by-puuid/{puuid}/ids?type={type}&start={start}&count={games_to_fetch}&api_key={api_key}'\n",
    "        elif starttime != 0 and endtime == 0:\n",
    "            url_matchids = f'https://europe.api.riotgames.com/lol/match/v5/matches/by-puuid/{puuid}/ids?startTime={starttime}&type={type}&start={start}&count={games_to_fetch}&api_key={api_key}'\n",
    "        else:\n",
    "            url_matchids = f'https://europe.api.riotgames.com/lol/match/v5/matches/by-puuid/{puuid}/ids?startTime={starttime}&endTime={endtime}&type={type}&start={start}&count={games_to_fetch}&api_key={api_key}'\n",
    "        \n",
    "        response_matchids = requests.get(url_matchids)\n",
    "        match_ids.extend(response_matchids.json())\n",
    "        \n",
    "        count += games_to_fetch\n",
    "        start += games_to_fetch\n",
    "    \n",
    "    return match_ids\n"
   ]
  },
  {
   "cell_type": "code",
   "execution_count": 5,
   "metadata": {},
   "outputs": [],
   "source": [
    "def get_match_data(match_id):\n",
    "    try:\n",
    "        with open('../api_key.txt', 'r') as file:\n",
    "            api_key = file.read().replace('\\n', '')\n",
    "        url_match = f'https://europe.api.riotgames.com/lol/match/v5/matches/{match_id}?api_key={api_key}'\n",
    "        response_match = requests.get(url_match)\n",
    "        response_json = response_match.json()\n",
    "        \n",
    "        if 'status' in response_json and response_json['status']['status_code'] == 404:\n",
    "            print('Data not found - match file not found')\n",
    "            return None\n",
    "        \n",
    "        return response_json\n",
    "    except Exception as e:\n",
    "        print(f'Error occurred: {str(e)}')\n",
    "        return {}\n"
   ]
  },
  {
   "cell_type": "code",
   "execution_count": 6,
   "metadata": {},
   "outputs": [],
   "source": [
    "def filter_data(data, my_puuid, puuids_to_exclude):\n",
    "    filtered_data = []\n",
    "    for match in data:\n",
    "        my_summoner = match['metadata']['participants'].index(my_puuid)\n",
    "        team_id_my_summoner = match['info']['participants'][my_summoner]['teamId']\n",
    "        for participant in match['info']['participants']:\n",
    "            if (participant['teamPosition'] == 'BOTTOM' or participant['teamPosition'] == 'UTILITY') and participant['teamId'] == team_id_my_summoner and participant['puuid'] != puuids_to_exclude:\n",
    "                filtered_data.append(participant)\n",
    "    return filtered_data"
   ]
  },
  {
   "cell_type": "code",
   "execution_count": 22,
   "metadata": {},
   "outputs": [
    {
     "ename": "KeyError",
     "evalue": "'metadata'",
     "output_type": "error",
     "traceback": [
      "\u001b[0;31m---------------------------------------------------------------------------\u001b[0m",
      "\u001b[0;31mKeyError\u001b[0m                                  Traceback (most recent call last)",
      "Cell \u001b[0;32mIn[22], line 10\u001b[0m\n\u001b[1;32m      8\u001b[0m match_data \u001b[38;5;241m=\u001b[39m get_match_data(match)\n\u001b[1;32m      9\u001b[0m \u001b[38;5;28;01mif\u001b[39;00m match_data \u001b[38;5;129;01mis\u001b[39;00m \u001b[38;5;129;01mnot\u001b[39;00m \u001b[38;5;28;01mNone\u001b[39;00m:\n\u001b[0;32m---> 10\u001b[0m     filtered_data\u001b[38;5;241m.\u001b[39mextend(\u001b[43mfilter_data\u001b[49m\u001b[43m(\u001b[49m\u001b[43m[\u001b[49m\u001b[43mmatch_data\u001b[49m\u001b[43m]\u001b[49m\u001b[43m,\u001b[49m\u001b[43m \u001b[49m\u001b[43mmy_puuid\u001b[49m\u001b[43m,\u001b[49m\u001b[43m \u001b[49m\u001b[43mpuuids_to_exclude\u001b[49m\u001b[43m)\u001b[49m)\n",
      "Cell \u001b[0;32mIn[6], line 4\u001b[0m, in \u001b[0;36mfilter_data\u001b[0;34m(data, my_puuid, puuids_to_exclude)\u001b[0m\n\u001b[1;32m      2\u001b[0m filtered_data \u001b[38;5;241m=\u001b[39m []\n\u001b[1;32m      3\u001b[0m \u001b[38;5;28;01mfor\u001b[39;00m match \u001b[38;5;129;01min\u001b[39;00m data:\n\u001b[0;32m----> 4\u001b[0m     my_summoner \u001b[38;5;241m=\u001b[39m \u001b[43mmatch\u001b[49m\u001b[43m[\u001b[49m\u001b[38;5;124;43m'\u001b[39;49m\u001b[38;5;124;43mmetadata\u001b[39;49m\u001b[38;5;124;43m'\u001b[39;49m\u001b[43m]\u001b[49m[\u001b[38;5;124m'\u001b[39m\u001b[38;5;124mparticipants\u001b[39m\u001b[38;5;124m'\u001b[39m]\u001b[38;5;241m.\u001b[39mindex(my_puuid)\n\u001b[1;32m      5\u001b[0m     team_id_my_summoner \u001b[38;5;241m=\u001b[39m match[\u001b[38;5;124m'\u001b[39m\u001b[38;5;124minfo\u001b[39m\u001b[38;5;124m'\u001b[39m][\u001b[38;5;124m'\u001b[39m\u001b[38;5;124mparticipants\u001b[39m\u001b[38;5;124m'\u001b[39m][my_summoner][\u001b[38;5;124m'\u001b[39m\u001b[38;5;124mteamId\u001b[39m\u001b[38;5;124m'\u001b[39m]\n\u001b[1;32m      6\u001b[0m     \u001b[38;5;28;01mfor\u001b[39;00m participant \u001b[38;5;129;01min\u001b[39;00m match[\u001b[38;5;124m'\u001b[39m\u001b[38;5;124minfo\u001b[39m\u001b[38;5;124m'\u001b[39m][\u001b[38;5;124m'\u001b[39m\u001b[38;5;124mparticipants\u001b[39m\u001b[38;5;124m'\u001b[39m]:\n",
      "\u001b[0;31mKeyError\u001b[0m: 'metadata'"
     ]
    }
   ],
   "source": [
    "my_puuid = get_puuid('Zp4t', 'EUW')\n",
    "puuids_to_exclude = [get_puuid(puuid[0], puuid[1]) for puuid in [('Lurrvpöse', 'EUW'), ('Deadlystream538', 'EUW')]]\n",
    "\n",
    "match_ids = get_matchids(my_puuid, amount_of_games=50, type='ranked')\n",
    "filtered_data = []\n",
    "\n",
    "for match in match_ids:\n",
    "    match_data = get_match_data(match)\n",
    "    if match_data is not None:\n",
    "        filtered_data.extend(filter_data([match_data], my_puuid, puuids_to_exclude))\n",
    "    \n"
   ]
  },
  {
   "cell_type": "code",
   "execution_count": 21,
   "metadata": {},
   "outputs": [
    {
     "name": "stdout",
     "output_type": "stream",
     "text": [
      "2.1085972850678734\n"
     ]
    },
    {
     "name": "stderr",
     "output_type": "stream",
     "text": [
      "/var/folders/qs/52nq18yx781_kc58fhrjc7n00000gn/T/ipykernel_96544/3418175646.py:3: FutureWarning: A value is trying to be set on a copy of a DataFrame or Series through chained assignment using an inplace method.\n",
      "The behavior will change in pandas 3.0. This inplace method will never work because the intermediate object on which we are setting values always behaves as a copy.\n",
      "\n",
      "For example, when doing 'df[col].method(value, inplace=True)', try using 'df.method({col: value}, inplace=True)' or df[col] = df[col].method(value) instead, to perform the operation inplace on the original object.\n",
      "\n",
      "\n",
      "  kda['deaths'].replace(0, 1, inplace=True)\n",
      "/var/folders/qs/52nq18yx781_kc58fhrjc7n00000gn/T/ipykernel_96544/3418175646.py:3: SettingWithCopyWarning: \n",
      "A value is trying to be set on a copy of a slice from a DataFrame\n",
      "\n",
      "See the caveats in the documentation: https://pandas.pydata.org/pandas-docs/stable/user_guide/indexing.html#returning-a-view-versus-a-copy\n",
      "  kda['deaths'].replace(0, 1, inplace=True)\n"
     ]
    }
   ],
   "source": [
    "filtered_data = pd.DataFrame(filtered_data)\n",
    "kda = filtered_data[['kills', 'deaths', 'assists']]\n",
    "kda['deaths'].replace(0, 1, inplace=True)\n",
    "kda_mean = kda.mean()\n",
    "print((kda_mean['kills'] + kda_mean['assists']) / kda_mean['deaths'])"
   ]
  },
  {
   "cell_type": "code",
   "execution_count": 23,
   "metadata": {},
   "outputs": [
    {
     "name": "stdout",
     "output_type": "stream",
     "text": [
      "2.0609756097560976\n"
     ]
    },
    {
     "name": "stderr",
     "output_type": "stream",
     "text": [
      "/var/folders/qs/52nq18yx781_kc58fhrjc7n00000gn/T/ipykernel_96544/1690761978.py:4: FutureWarning: A value is trying to be set on a copy of a DataFrame or Series through chained assignment using an inplace method.\n",
      "The behavior will change in pandas 3.0. This inplace method will never work because the intermediate object on which we are setting values always behaves as a copy.\n",
      "\n",
      "For example, when doing 'df[col].method(value, inplace=True)', try using 'df.method({col: value}, inplace=True)' or df[col] = df[col].method(value) instead, to perform the operation inplace on the original object.\n",
      "\n",
      "\n",
      "  kda['deaths'].replace(0, 1, inplace=True)\n",
      "/var/folders/qs/52nq18yx781_kc58fhrjc7n00000gn/T/ipykernel_96544/1690761978.py:4: SettingWithCopyWarning: \n",
      "A value is trying to be set on a copy of a slice from a DataFrame\n",
      "\n",
      "See the caveats in the documentation: https://pandas.pydata.org/pandas-docs/stable/user_guide/indexing.html#returning-a-view-versus-a-copy\n",
      "  kda['deaths'].replace(0, 1, inplace=True)\n"
     ]
    }
   ],
   "source": [
    "filtered_data = pd.DataFrame(filtered_data)\n",
    "filtered_data.to_csv('filtered_data.csv', index=False)\n",
    "kda = filtered_data[['kills', 'deaths', 'assists']]\n",
    "kda['deaths'].replace(0, 1, inplace=True)\n",
    "kda_mean = kda.mean()\n",
    "print((kda_mean['kills'] + kda_mean['assists']) / kda_mean['deaths'])"
   ]
  },
  {
   "cell_type": "code",
   "execution_count": 19,
   "metadata": {},
   "outputs": [
    {
     "ename": "TypeError",
     "evalue": "string indices must be integers",
     "output_type": "error",
     "traceback": [
      "\u001b[1;31m---------------------------------------------------------------------------\u001b[0m",
      "\u001b[1;31mTypeError\u001b[0m                                 Traceback (most recent call last)",
      "Cell \u001b[1;32mIn[19], line 10\u001b[0m\n\u001b[0;32m      8\u001b[0m match_data \u001b[38;5;241m=\u001b[39m get_match_data(match)\n\u001b[0;32m      9\u001b[0m \u001b[38;5;28;01mif\u001b[39;00m match_data \u001b[38;5;129;01mis\u001b[39;00m \u001b[38;5;129;01mnot\u001b[39;00m \u001b[38;5;28;01mNone\u001b[39;00m:\n\u001b[1;32m---> 10\u001b[0m     filtered_data\u001b[38;5;241m.\u001b[39mappend(\u001b[43mfilter_data\u001b[49m\u001b[43m(\u001b[49m\u001b[43mmatch_data\u001b[49m\u001b[43m,\u001b[49m\u001b[43m \u001b[49m\u001b[43mmy_puuid\u001b[49m\u001b[43m,\u001b[49m\u001b[43m \u001b[49m\u001b[43mpuuids_to_exclude\u001b[49m\u001b[43m)\u001b[49m)\n\u001b[0;32m     11\u001b[0m     \u001b[38;5;28;01mbreak\u001b[39;00m\n\u001b[0;32m     12\u001b[0m \u001b[38;5;28;01melse\u001b[39;00m:\n",
      "Cell \u001b[1;32mIn[18], line 4\u001b[0m, in \u001b[0;36mfilter_data\u001b[1;34m(data, my_puuid, puuids_to_exclude)\u001b[0m\n\u001b[0;32m      2\u001b[0m filtered_data \u001b[38;5;241m=\u001b[39m []\n\u001b[0;32m      3\u001b[0m \u001b[38;5;28;01mfor\u001b[39;00m match \u001b[38;5;129;01min\u001b[39;00m data:\n\u001b[1;32m----> 4\u001b[0m     my_summoner \u001b[38;5;241m=\u001b[39m \u001b[43mmatch\u001b[49m\u001b[43m[\u001b[49m\u001b[38;5;124;43m'\u001b[39;49m\u001b[38;5;124;43mmetadata\u001b[39;49m\u001b[38;5;124;43m'\u001b[39;49m\u001b[43m]\u001b[49m[\u001b[38;5;124m'\u001b[39m\u001b[38;5;124mparticipants\u001b[39m\u001b[38;5;124m'\u001b[39m]\u001b[38;5;241m.\u001b[39mindex(my_puuid)\n\u001b[0;32m      5\u001b[0m     team_id_my_summoner \u001b[38;5;241m=\u001b[39m match[\u001b[38;5;124m'\u001b[39m\u001b[38;5;124minfo\u001b[39m\u001b[38;5;124m'\u001b[39m][\u001b[38;5;124m'\u001b[39m\u001b[38;5;124mparticipants\u001b[39m\u001b[38;5;124m'\u001b[39m][my_summoner][\u001b[38;5;124m'\u001b[39m\u001b[38;5;124mteamId\u001b[39m\u001b[38;5;124m'\u001b[39m]\n\u001b[0;32m      6\u001b[0m     \u001b[38;5;28;01mfor\u001b[39;00m participant \u001b[38;5;129;01min\u001b[39;00m match[\u001b[38;5;124m'\u001b[39m\u001b[38;5;124minfo\u001b[39m\u001b[38;5;124m'\u001b[39m][\u001b[38;5;124m'\u001b[39m\u001b[38;5;124mparticipants\u001b[39m\u001b[38;5;124m'\u001b[39m]:\n",
      "\u001b[1;31mTypeError\u001b[0m: string indices must be integers"
     ]
    }
   ],
   "source": [
    "my_puuid = get_puuid('Zp4t', 'EUW')\n",
    "puuids_to_exclude = [get_puuid(puuid[0], puuid[1]) for puuid in [('Lurrvpöse', 'EUW'), ('Deadlystream538', 'EUW')]]\n",
    "\n",
    "match_ids = get_matchids(my_puuid, starttime=datetime_converter('timestamp', '2024-01-04'))\n",
    "filtered_data = []\n",
    "\n",
    "for match in match_ids:\n",
    "    match_data = get_match_data(match)\n",
    "    if match_data is not None:\n",
    "        filtered_data.append(filter_data(type(match_data), match_data, my_puuid, puuids_to_exclude))\n",
    "        break\n",
    "    else:\n",
    "        print('Match data not found')\n",
    "        break"
   ]
  },
  {
   "cell_type": "code",
   "execution_count": 13,
   "metadata": {},
   "outputs": [
    {
     "ename": "NameError",
     "evalue": "name 'response_matchids' is not defined",
     "output_type": "error",
     "traceback": [
      "\u001b[1;31m---------------------------------------------------------------------------\u001b[0m",
      "\u001b[1;31mNameError\u001b[0m                                 Traceback (most recent call last)",
      "Cell \u001b[1;32mIn[13], line 3\u001b[0m\n\u001b[0;32m      1\u001b[0m filtered_data \u001b[38;5;241m=\u001b[39m []\n\u001b[1;32m----> 3\u001b[0m \u001b[38;5;28;01mfor\u001b[39;00m match \u001b[38;5;129;01min\u001b[39;00m \u001b[43mresponse_matchids\u001b[49m\u001b[38;5;241m.\u001b[39mjson():\n\u001b[0;32m      4\u001b[0m     url_match \u001b[38;5;241m=\u001b[39m \u001b[38;5;124mf\u001b[39m\u001b[38;5;124m'\u001b[39m\u001b[38;5;124mhttps://europe.api.riotgames.com/lol/match/v5/matches/\u001b[39m\u001b[38;5;132;01m{\u001b[39;00mmatch\u001b[38;5;132;01m}\u001b[39;00m\u001b[38;5;124m?api_key=\u001b[39m\u001b[38;5;132;01m{\u001b[39;00mapi_key\u001b[38;5;132;01m}\u001b[39;00m\u001b[38;5;124m'\u001b[39m\n\u001b[0;32m      5\u001b[0m     response_match \u001b[38;5;241m=\u001b[39m requests\u001b[38;5;241m.\u001b[39mget(url_match)\n",
      "\u001b[1;31mNameError\u001b[0m: name 'response_matchids' is not defined"
     ]
    }
   ],
   "source": [
    "filtered_data = []\n",
    "\n",
    "for match in response_matchids.json():\n",
    "    url_match = f'https://europe.api.riotgames.com/lol/match/v5/matches/{match}?api_key={api_key}'\n",
    "    response_match = requests.get(url_match)\n",
    "    match_data = response_match.json()\n",
    "    my_summoner = match_data['metadata']['participants'].index(puuid)\n",
    "    team_id_my_summoner = match_data['info']['participants'][my_summoner]['teamId']\n",
    "    for participant in match_data['info']['participants']:\n",
    "        if (participant['teamPosition'] == 'BOTTOM' or participant['teamPosition'] == 'UTILITY') and participant['teamId'] == team_id_my_summoner and participant['puuid'] != puuid_lukas:\n",
    "            filtered_data.append(participant)\n",
    "\n",
    "df_filtered = pd.DataFrame(filtered_data)\n"
   ]
  },
  {
   "cell_type": "code",
   "execution_count": 20,
   "metadata": {},
   "outputs": [
    {
     "ename": "NameError",
     "evalue": "name 'df_filtered' is not defined",
     "output_type": "error",
     "traceback": [
      "\u001b[1;31m---------------------------------------------------------------------------\u001b[0m",
      "\u001b[1;31mNameError\u001b[0m                                 Traceback (most recent call last)",
      "Cell \u001b[1;32mIn[20], line 1\u001b[0m\n\u001b[1;32m----> 1\u001b[0m \u001b[43mdf_filtered\u001b[49m\u001b[38;5;241m.\u001b[39mloc[df_filtered[\u001b[38;5;124m'\u001b[39m\u001b[38;5;124mdeaths\u001b[39m\u001b[38;5;124m'\u001b[39m] \u001b[38;5;241m==\u001b[39m \u001b[38;5;241m0\u001b[39m, \u001b[38;5;124m'\u001b[39m\u001b[38;5;124mdeaths\u001b[39m\u001b[38;5;124m'\u001b[39m] \u001b[38;5;241m+\u001b[39m\u001b[38;5;241m=\u001b[39m \u001b[38;5;241m1\u001b[39m\n\u001b[0;32m      3\u001b[0m df_filtered[\u001b[38;5;124m'\u001b[39m\u001b[38;5;124mkda\u001b[39m\u001b[38;5;124m'\u001b[39m] \u001b[38;5;241m=\u001b[39m (df_filtered[\u001b[38;5;124m'\u001b[39m\u001b[38;5;124mkills\u001b[39m\u001b[38;5;124m'\u001b[39m] \u001b[38;5;241m+\u001b[39m df_filtered[\u001b[38;5;124m'\u001b[39m\u001b[38;5;124massists\u001b[39m\u001b[38;5;124m'\u001b[39m]) \u001b[38;5;241m/\u001b[39m df_filtered[\u001b[38;5;124m'\u001b[39m\u001b[38;5;124mdeaths\u001b[39m\u001b[38;5;124m'\u001b[39m]\n\u001b[0;32m      4\u001b[0m df_filtered[\u001b[38;5;124m'\u001b[39m\u001b[38;5;124mkda\u001b[39m\u001b[38;5;124m'\u001b[39m]\u001b[38;5;241m.\u001b[39mmean()\n",
      "\u001b[1;31mNameError\u001b[0m: name 'df_filtered' is not defined"
     ]
    }
   ],
   "source": [
    "df_filtered.loc[df_filtered['deaths'] == 0, 'deaths'] += 1\n",
    "\n",
    "df_filtered['kda'] = (df_filtered['kills'] + df_filtered['assists']) / df_filtered['deaths']\n",
    "df_filtered['kda'].mean()"
   ]
  },
  {
   "cell_type": "code",
   "execution_count": 8,
   "metadata": {},
   "outputs": [
    {
     "data": {
      "text/plain": [
       "402"
      ]
     },
     "execution_count": 8,
     "metadata": {},
     "output_type": "execute_result"
    }
   ],
   "source": [
    "list = get_matchids(get_puuid('Zp4t', 'EUW'))\n",
    "len(list)"
   ]
  },
  {
   "cell_type": "code",
   "execution_count": 9,
   "metadata": {},
   "outputs": [
    {
     "ename": "KeyError",
     "evalue": "'puuid'",
     "output_type": "error",
     "traceback": [
      "\u001b[1;31m---------------------------------------------------------------------------\u001b[0m",
      "\u001b[1;31mKeyError\u001b[0m                                  Traceback (most recent call last)",
      "Cell \u001b[1;32mIn[9], line 1\u001b[0m\n\u001b[1;32m----> 1\u001b[0m my_puuid \u001b[38;5;241m=\u001b[39m \u001b[43mget_puuid\u001b[49m\u001b[43m(\u001b[49m\u001b[38;5;124;43m'\u001b[39;49m\u001b[38;5;124;43mZp4t\u001b[39;49m\u001b[38;5;124;43m'\u001b[39;49m\u001b[43m,\u001b[49m\u001b[43m \u001b[49m\u001b[38;5;124;43m'\u001b[39;49m\u001b[38;5;124;43mEUW\u001b[39;49m\u001b[38;5;124;43m'\u001b[39;49m\u001b[43m)\u001b[49m\n\u001b[0;32m      2\u001b[0m get_matchids(my_puuid, \u001b[38;5;241m50\u001b[39m, starttime \u001b[38;5;241m=\u001b[39m datetime_converter(\u001b[38;5;124m'\u001b[39m\u001b[38;5;124mtimestamp\u001b[39m\u001b[38;5;124m'\u001b[39m, \u001b[38;5;124m'\u001b[39m\u001b[38;5;124m2024-01-30\u001b[39m\u001b[38;5;124m'\u001b[39m))\n",
      "Cell \u001b[1;32mIn[3], line 6\u001b[0m, in \u001b[0;36mget_puuid\u001b[1;34m(game_name, name_tag)\u001b[0m\n\u001b[0;32m      4\u001b[0m url_puuid \u001b[38;5;241m=\u001b[39m \u001b[38;5;124mf\u001b[39m\u001b[38;5;124m'\u001b[39m\u001b[38;5;124mhttps://europe.api.riotgames.com/riot/account/v1/accounts/by-riot-id/\u001b[39m\u001b[38;5;132;01m{\u001b[39;00mgame_name\u001b[38;5;132;01m}\u001b[39;00m\u001b[38;5;124m/\u001b[39m\u001b[38;5;132;01m{\u001b[39;00mname_tag\u001b[38;5;132;01m}\u001b[39;00m\u001b[38;5;124m?api_key=\u001b[39m\u001b[38;5;132;01m{\u001b[39;00mapi_key\u001b[38;5;132;01m}\u001b[39;00m\u001b[38;5;124m'\u001b[39m\n\u001b[0;32m      5\u001b[0m response_puuid \u001b[38;5;241m=\u001b[39m requests\u001b[38;5;241m.\u001b[39mget(url_puuid)\n\u001b[1;32m----> 6\u001b[0m \u001b[38;5;28;01mreturn\u001b[39;00m \u001b[43mresponse_puuid\u001b[49m\u001b[38;5;241;43m.\u001b[39;49m\u001b[43mjson\u001b[49m\u001b[43m(\u001b[49m\u001b[43m)\u001b[49m\u001b[43m[\u001b[49m\u001b[38;5;124;43m'\u001b[39;49m\u001b[38;5;124;43mpuuid\u001b[39;49m\u001b[38;5;124;43m'\u001b[39;49m\u001b[43m]\u001b[49m\n",
      "\u001b[1;31mKeyError\u001b[0m: 'puuid'"
     ]
    }
   ],
   "source": [
    "my_puuid = get_puuid('Zp4t', 'EUW')\n",
    "get_matchids(my_puuid, 50, starttime = datetime_converter('timestamp', '2024-01-30'))"
   ]
  },
  {
   "cell_type": "code",
   "execution_count": 12,
   "metadata": {},
   "outputs": [
    {
     "data": {
      "text/plain": [
       "{'status': {'message': 'Rate limit exceeded', 'status_code': 429}}"
      ]
     },
     "execution_count": 12,
     "metadata": {},
     "output_type": "execute_result"
    }
   ],
   "source": [
    "get_match_data(list[1])"
   ]
  },
  {
   "cell_type": "code",
   "execution_count": null,
   "metadata": {},
   "outputs": [
    {
     "data": {
      "text/plain": [
       "datetime.datetime(2023, 10, 14, 15, 2, 48, 382000)"
      ]
     },
     "execution_count": 193,
     "metadata": {},
     "output_type": "execute_result"
    }
   ],
   "source": [
    "datetime_converter('date', 1697288568382)"
   ]
  }
 ],
 "metadata": {
  "kernelspec": {
   "display_name": "Projects-With-Python-IQTy-Oq1",
   "language": "python",
   "name": "python3"
  },
  "language_info": {
   "codemirror_mode": {
    "name": "ipython",
    "version": 3
   },
   "file_extension": ".py",
   "mimetype": "text/x-python",
   "name": "python",
   "nbconvert_exporter": "python",
   "pygments_lexer": "ipython3",
   "version": "3.11.5"
  }
 },
 "nbformat": 4,
 "nbformat_minor": 2
}
